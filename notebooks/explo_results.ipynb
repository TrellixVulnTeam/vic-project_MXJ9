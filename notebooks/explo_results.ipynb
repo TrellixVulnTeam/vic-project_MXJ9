{
 "cells": [
  {
   "cell_type": "code",
   "execution_count": null,
   "metadata": {},
   "outputs": [],
   "source": [
    "import pathlib\n",
    "from joblib import load\n",
    "import json\n",
    "import sys\n",
    "import os\n",
    "\n",
    "import pandas as pd\n",
    "from sklearn.metrics import confusion_matrix, ConfusionMatrixDisplay\n",
    "from sklearn.model_selection import train_test_split\n",
    "import numpy as np\n",
    "\n",
    "sys.path.append(\"../\")\n",
    "from src.classification.classification import show_params, prepare_data_for_training\n",
    "from src.data_preparation.preprocessing import run_preprocessing\n",
    "from src.data_preparation.features import extract_features, make_final_df"
   ]
  },
  {
   "cell_type": "code",
   "execution_count": null,
   "metadata": {},
   "outputs": [],
   "source": [
    "EXPERIMENTS_PATH = pathlib.Path(\"../experiments\")\n",
    "date = \"01_23_12_53_06_svm_nclusters_2000_no_binary\"\n",
    "experiment_path = EXPERIMENTS_PATH / date"
   ]
  },
  {
   "cell_type": "code",
   "execution_count": null,
   "metadata": {},
   "outputs": [],
   "source": [
    "def load_model(experiment_path):\n",
    "    model = load(experiment_path / \"model.joblib\")\n",
    "    return model\n",
    "\n",
    "def load_clustering_model(experiment_path):\n",
    "    clustering_model = load(experiment_path / \"clustering_model.joblib\")\n",
    "    return clustering_model\n",
    "\n",
    "def load_final_df(experiment_path):\n",
    "    final_df = pd.read_csv(experiment_path / \"final_df.csv\")\n",
    "    return final_df\n",
    "\n",
    "def load_params(experiment_path):\n",
    "    with open(experiment_path / \"params.json\") as file:\n",
    "        params = json.load(file)\n",
    "    return params"
   ]
  },
  {
   "cell_type": "code",
   "execution_count": null,
   "metadata": {},
   "outputs": [],
   "source": [
    "model = load_model(experiment_path)\n",
    "clustering_model = load_clustering_model(experiment_path)\n",
    "final_df = load_final_df(experiment_path)\n",
    "params = load_params(experiment_path)"
   ]
  },
  {
   "cell_type": "code",
   "execution_count": null,
   "metadata": {},
   "outputs": [],
   "source": [
    "show_params(params)"
   ]
  },
  {
   "cell_type": "code",
   "execution_count": null,
   "metadata": {},
   "outputs": [],
   "source": [
    "final_df"
   ]
  },
  {
   "cell_type": "markdown",
   "metadata": {},
   "source": [
    "# Metrics on Kaggle dataset"
   ]
  },
  {
   "cell_type": "code",
   "execution_count": null,
   "metadata": {},
   "outputs": [],
   "source": [
    "X_scaled, y = prepare_data_for_training(\n",
    "    final_df.drop(\"path\", axis=1), binary=params[\"binary\"]\n",
    ")\n",
    "X_train, X_test, y_train, y_test = train_test_split(\n",
    "        X_scaled, y, test_size=1 / 3, random_state=42\n",
    "    )"
   ]
  },
  {
   "cell_type": "code",
   "execution_count": null,
   "metadata": {},
   "outputs": [],
   "source": [
    "y_pred = model.predict(X_test)"
   ]
  },
  {
   "cell_type": "code",
   "execution_count": null,
   "metadata": {},
   "outputs": [],
   "source": [
    "def show_matrix(y_pred, y):\n",
    "    confusion_matrix_ = confusion_matrix(y, y_pred, labels=[\"cat\", \"dog\"])\n",
    "    ConfusionMatrixDisplay(confusion_matrix_, display_labels=[\"cat\", \"dog\"]).plot()\n",
    "    return confusion_matrix_"
   ]
  },
  {
   "cell_type": "code",
   "execution_count": null,
   "metadata": {},
   "outputs": [],
   "source": [
    "def show_metrics(confusion_matrix_):\n",
    "    accuracy = np.trace(confusion_matrix_) / np.sum(confusion_matrix_)\n",
    "    cat_precision = confusion_matrix_[0, 0] / (confusion_matrix_[0, 0] + confusion_matrix_[0, 1])\n",
    "    dog_precision = confusion_matrix_[1, 1] / (confusion_matrix_[1, 1] + confusion_matrix_[1, 0])\n",
    "\n",
    "    cat_recall = confusion_matrix_[0, 0] / (confusion_matrix_[0, 0] + confusion_matrix_[1, 0])\n",
    "    dog_recall = confusion_matrix_[1, 1] / (confusion_matrix_[1, 1] + confusion_matrix_[0, 1])\n",
    "\n",
    "    average_precision = (cat_precision + dog_precision) / 2\n",
    "\n",
    "    print(\n",
    "        f\"\"\"\\n\n",
    "        Accuracy: {accuracy*100:.2f} % \n",
    "\n",
    "        Cat precision: {cat_precision*100:.2f} %\n",
    "        Cat recall: {cat_recall*100:.2f} %\n",
    "\n",
    "        Dog precision: {dog_precision*100:.2f} %\n",
    "        Dog recall: {dog_recall*100:.2f} %\n",
    "\n",
    "        Average precision: {average_precision*100:.2f} %\n",
    "        \"\"\"\n",
    "    )"
   ]
  },
  {
   "cell_type": "code",
   "execution_count": null,
   "metadata": {},
   "outputs": [],
   "source": [
    "confusion_matrix_ = show_matrix(y_pred, y_test)"
   ]
  },
  {
   "cell_type": "code",
   "execution_count": null,
   "metadata": {},
   "outputs": [],
   "source": [
    "show_metrics(confusion_matrix_)"
   ]
  },
  {
   "cell_type": "markdown",
   "metadata": {},
   "source": [
    "## Metrics on PASCAL dataset"
   ]
  },
  {
   "cell_type": "code",
   "execution_count": null,
   "metadata": {},
   "outputs": [],
   "source": [
    "final_df"
   ]
  },
  {
   "cell_type": "code",
   "execution_count": null,
   "metadata": {},
   "outputs": [],
   "source": [
    "pascal_path = pathlib.Path(\"../data/pascal\")\n",
    "images_path = pascal_path / \"images\"\n",
    "labels_path = pascal_path / \"labels.csv\""
   ]
  },
  {
   "cell_type": "code",
   "execution_count": null,
   "metadata": {},
   "outputs": [],
   "source": [
    "descriptors_dict = run_preprocessing(images_path, 1, \"MSER\", len(os.listdir(images_path)))"
   ]
  },
  {
   "cell_type": "code",
   "execution_count": null,
   "metadata": {},
   "outputs": [],
   "source": [
    "features = extract_features(descriptors_dict, clustering_model)"
   ]
  },
  {
   "cell_type": "code",
   "execution_count": null,
   "metadata": {},
   "outputs": [],
   "source": [
    "labels = pd.read_csv(labels_path)\n",
    "pascal_df = make_final_df(features, labels)"
   ]
  },
  {
   "cell_type": "code",
   "execution_count": null,
   "metadata": {},
   "outputs": [],
   "source": [
    "pascal_df"
   ]
  },
  {
   "cell_type": "code",
   "execution_count": null,
   "metadata": {},
   "outputs": [],
   "source": [
    "X_pascal, y_pascal = prepare_data_for_training(\n",
    "    pascal_df.drop(\"path\", axis=1), binary=params[\"binary\"]\n",
    ")"
   ]
  },
  {
   "cell_type": "code",
   "execution_count": null,
   "metadata": {},
   "outputs": [],
   "source": [
    "y_pascal_pred = model.predict(X_pascal)"
   ]
  },
  {
   "cell_type": "code",
   "execution_count": null,
   "metadata": {},
   "outputs": [],
   "source": [
    "confusion_matrix_pascal = show_matrix(y_pascal_pred, y_pascal)"
   ]
  },
  {
   "cell_type": "code",
   "execution_count": null,
   "metadata": {},
   "outputs": [],
   "source": [
    "show_metrics(confusion_matrix_pascal)"
   ]
  }
 ],
 "metadata": {
  "interpreter": {
   "hash": "06e51b8c63a577696d4ba9beee096de238ca46057aea4a9dbda905bb9ab3f5de"
  },
  "kernelspec": {
   "display_name": "Python 3.9.9 64-bit ('.venv': venv)",
   "language": "python",
   "name": "python3"
  },
  "language_info": {
   "codemirror_mode": {
    "name": "ipython",
    "version": 3
   },
   "file_extension": ".py",
   "mimetype": "text/x-python",
   "name": "python",
   "nbconvert_exporter": "python",
   "pygments_lexer": "ipython3",
   "version": "3.9.9"
  },
  "orig_nbformat": 4
 },
 "nbformat": 4,
 "nbformat_minor": 2
}
