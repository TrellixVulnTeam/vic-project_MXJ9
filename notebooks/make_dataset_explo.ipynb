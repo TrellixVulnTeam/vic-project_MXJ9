{
 "cells": [
  {
   "cell_type": "code",
   "execution_count": 37,
   "metadata": {},
   "outputs": [],
   "source": [
    "import os\n",
    "import pathlib\n",
    "import pandas as pd\n",
    "import shutil\n",
    "\n",
    "RAW_DATA_PATH = pathlib.Path(\"../data/raw/\")\n",
    "RAW_IMAGES_PATH = RAW_DATA_PATH / \"JPEGImages\"\n",
    "FINAL_DATA_PATH = pathlib.Path(\"../data/final/\")\n",
    "FINAL_IMAGES_PATH = FINAL_DATA_PATH / \"images\""
   ]
  },
  {
   "cell_type": "markdown",
   "metadata": {},
   "source": [
    "We want to make a database with pictures of dogs and cats.\n",
    "# Identification of pictures"
   ]
  },
  {
   "cell_type": "code",
   "execution_count": 28,
   "metadata": {},
   "outputs": [],
   "source": [
    "cat_pictures = set()\n",
    "with open(RAW_DATA_PATH / \"ImageSets/Main/cat_trainval.txt\") as file:\n",
    "    for line in file.readlines():\n",
    "        if line.split()[1] == \"1\":\n",
    "            cat_pictures.add(line.split()[0] + \".jpg\")\n",
    "\n",
    "dog_pictures = set()\n",
    "with open(RAW_DATA_PATH / \"ImageSets/Main/dog_trainval.txt\") as file:\n",
    "    for line in file.readlines():\n",
    "        if line.split()[1] == \"1\":\n",
    "            dog_pictures.add(line.split()[0] + \".jpg\")\n",
    "\n"
   ]
  },
  {
   "cell_type": "code",
   "execution_count": 29,
   "metadata": {},
   "outputs": [
    {
     "name": "stdout",
     "output_type": "stream",
     "text": [
      "337 pictures of cats and 421 pictures of dogs.\n"
     ]
    }
   ],
   "source": [
    "print(f\"{len(cat_pictures)} pictures of cats and {len(dog_pictures)} pictures of dogs.\")"
   ]
  },
  {
   "cell_type": "code",
   "execution_count": 30,
   "metadata": {},
   "outputs": [
    {
     "name": "stdout",
     "output_type": "stream",
     "text": [
      "{'007417.jpg', '006026.jpg', '002268.jpg', '009763.jpg', '001211.jpg', '004035.jpg', '001940.jpg', '002034.jpg'} pictures in common\n"
     ]
    }
   ],
   "source": [
    "print(f\"{cat_pictures.intersection(dog_pictures)} pictures in common\")"
   ]
  },
  {
   "cell_type": "code",
   "execution_count": 31,
   "metadata": {},
   "outputs": [],
   "source": [
    "cat_pictures, dog_pictures = cat_pictures.difference(dog_pictures), dog_pictures.difference(cat_pictures)"
   ]
  },
  {
   "cell_type": "code",
   "execution_count": 32,
   "metadata": {},
   "outputs": [
    {
     "name": "stdout",
     "output_type": "stream",
     "text": [
      "329 pictures of cats and 413 pictures of dogs.\n"
     ]
    }
   ],
   "source": [
    "print(f\"{len(cat_pictures)} pictures of cats and {len(dog_pictures)} pictures of dogs.\")"
   ]
  },
  {
   "cell_type": "markdown",
   "metadata": {},
   "source": [
    "# Making the new database\n",
    "## Pictures dataset"
   ]
  },
  {
   "cell_type": "code",
   "execution_count": 34,
   "metadata": {},
   "outputs": [],
   "source": [
    "images = cat_pictures.union(dog_pictures)"
   ]
  },
  {
   "cell_type": "code",
   "execution_count": 39,
   "metadata": {},
   "outputs": [],
   "source": [
    "if not FINAL_IMAGES_PATH.exists():\n",
    "    os.makedirs(FINAL_IMAGES_PATH)\n",
    "for image in images:\n",
    "    shutil.copy(RAW_IMAGES_PATH / image, FINAL_IMAGES_PATH / image)"
   ]
  },
  {
   "cell_type": "markdown",
   "metadata": {},
   "source": [
    "## Labels"
   ]
  },
  {
   "cell_type": "code",
   "execution_count": 40,
   "metadata": {},
   "outputs": [],
   "source": [
    "cat_pictures = list(cat_pictures)\n",
    "dog_pictures = list(dog_pictures)\n",
    "\n",
    "labels = pd.DataFrame(\n",
    "    dict(\n",
    "        path = cat_pictures,\n",
    "        label = [\"cat\"] * len(cat_pictures)\n",
    "    )\n",
    ")\n",
    "\n",
    "labels = labels.append(\n",
    "    pd.DataFrame(\n",
    "        dict(\n",
    "            path=dog_pictures,\n",
    "            label = [\"dog\"] * len(dog_pictures)\n",
    "        )\n",
    "    )\n",
    ")"
   ]
  },
  {
   "cell_type": "code",
   "execution_count": 48,
   "metadata": {},
   "outputs": [],
   "source": [
    "labels = labels.sample(frac=1)"
   ]
  },
  {
   "cell_type": "code",
   "execution_count": 50,
   "metadata": {},
   "outputs": [],
   "source": [
    "labels.to_csv(FINAL_DATA_PATH / \"labels.csv\", index=False)"
   ]
  }
 ],
 "metadata": {
  "interpreter": {
   "hash": "2f2cb0a1e5f2c2026993a0d1f52ddf58e44d0ac0bb6080054c42051e763bf492"
  },
  "kernelspec": {
   "display_name": "Python 3.8.6 64-bit ('vic': conda)",
   "language": "python",
   "name": "python3"
  },
  "language_info": {
   "codemirror_mode": {
    "name": "ipython",
    "version": 3
   },
   "file_extension": ".py",
   "mimetype": "text/x-python",
   "name": "python",
   "nbconvert_exporter": "python",
   "pygments_lexer": "ipython3",
   "version": "3.8.6"
  },
  "orig_nbformat": 4
 },
 "nbformat": 4,
 "nbformat_minor": 2
}
